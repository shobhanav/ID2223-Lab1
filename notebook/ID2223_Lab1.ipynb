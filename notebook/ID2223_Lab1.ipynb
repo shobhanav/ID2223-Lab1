{
 "cells": [
  {
   "cell_type": "markdown",
   "metadata": {},
   "source": [
    "## Note\n",
    "Before starting the jupyter server, add to spark(static) the [lab1_lib](http://kompics.sics.se/maven/snapshotrepository/se/kth/spark/lab1_lib_2.11/1.0-SNAPSHOT/lab1_lib_2.11-1.0-SNAPSHOT.jar) library."
   ]
  },
  {
   "cell_type": "code",
   "execution_count": null,
   "metadata": {
    "collapsed": false,
    "deletable": true,
    "editable": true
   },
   "outputs": [],
   "source": [
    "import org.apache.spark.ml.feature.RegexTokenizer\n",
    "import org.apache.spark.ml.UnaryTransformer\n",
    "import org.apache.spark.ml.util.Identifiable\n",
    "import org.apache.spark.ml.linalg.Vector\n",
    "import org.apache.spark.ml.linalg.Vectors\n",
    "import scala.collection.mutable.WrappedArray\n",
    "import org.apache.spark.hack.VectorType\n",
    "import se.kth.spark.lab1.Array2Vector\n",
    "import se.kth.spark.lab1.Obs"
   ]
  },
  {
   "cell_type": "markdown",
   "metadata": {},
   "source": [
    "## Note\n",
    "Replace the filePath to point to your project/dataset"
   ]
  },
  {
   "cell_type": "code",
   "execution_count": null,
   "metadata": {
    "collapsed": false,
    "deletable": true,
    "editable": true
   },
   "outputs": [],
   "source": [
    "val filePath = \"hdfs:///Projects/id2223_lab1/million/millionsong.txt\"\n",
    "val rawDF = sc.textFile(filePath).toDF(\"raw\").cache()\n",
    "rawDF.show(5)"
   ]
  },
  {
   "cell_type": "code",
   "execution_count": null,
   "metadata": {
    "collapsed": false,
    "deletable": true,
    "editable": true
   },
   "outputs": [],
   "source": [
    "val obsValues = sc.textFile(filePath).map(s=>s.split(\",\")).map(\n",
    "    s=>Obs(s(0).replaceAll(\"\\\"\", \"\").toDouble, \n",
    "            s(1).replaceAll(\"\\\"\", \"\").toDouble,\n",
    "            s(2).replaceAll(\"\\\"\", \"\").toDouble,\n",
    "            s(3).replaceAll(\"\\\"\", \"\").toDouble\n",
    "        )\n",
    ")\n",
    "obsValues.toDF().registerTempTable(\"songs\")"
   ]
  },
  {
   "cell_type": "code",
   "execution_count": null,
   "metadata": {
    "collapsed": false,
    "deletable": true,
    "editable": true
   },
   "outputs": [],
   "source": [
    "%%sql \n",
    "select * from songs limit 10"
   ]
  },
  {
   "cell_type": "code",
   "execution_count": null,
   "metadata": {
    "collapsed": false,
    "deletable": true,
    "editable": true
   },
   "outputs": [],
   "source": [
    "val regexTokenizer = new RegexTokenizer().setInputCol(\"raw\").setOutputCol(\"arraytokens\").setPattern(\",\")\n",
    "val tokenizerDF = regexTokenizer.transform(rawDF)\n",
    "tokenizerDF.show(5)\n",
    "    \n",
    "val arr2Vect = new Array2Vector().setInputCol(regexTokenizer.getOutputCol).setOutputCol(\"vectortokens\") \n",
    "val array2VectorDF = arr2Vect.transform(tokenizerDF)\n",
    "array2VectorDF.show(5)"
   ]
  },
  {
   "cell_type": "markdown",
   "metadata": {},
   "source": [
    "## Note\n",
    "If you want to declare a new class, you need to declare it inside an object, otherwise some imports might not work."
   ]
  },
  {
   "cell_type": "code",
   "execution_count": null,
   "metadata": {
    "collapsed": false,
    "deletable": true,
    "editable": true
   },
   "outputs": [],
   "source": [
    "object UnaryTransformerExample {\n",
    "    class Array2Vector(override val uid: String)extends UnaryTransformer[WrappedArray[String], Vector, Array2Vector] {\n",
    "\n",
    "        def this() = this(Identifiable.randomUID(\"arrayToVector\"))\n",
    "\n",
    "        override protected def createTransformFunc: WrappedArray[String] => Vector = {\n",
    "            (p1: WrappedArray[String]) => {Vectors.dense(p1.array.map { x => x.toDouble })}\n",
    "        }\n",
    "\n",
    "        override protected def outputDataType: VectorType = {\n",
    "            new VectorType\n",
    "        }\n",
    "    }\n",
    "}"
   ]
  },
  {
   "cell_type": "code",
   "execution_count": null,
   "metadata": {
    "collapsed": false,
    "deletable": true,
    "editable": true
   },
   "outputs": [],
   "source": [
    "val arr2Vect3 = new UnaryTransformerExample.Array2Vector().setInputCol(regexTokenizer.getOutputCol).setOutputCol(\"vectortokens\") \n",
    "val array2VectorDF3 = arr2Vect3.transform(tokenizerDF)\n",
    "array2VectorDF3.show(5)"
   ]
  }
 ],
 "metadata": {
  "kernelspec": {
   "display_name": "Spark",
   "language": "",
   "name": "sparkkernel"
  },
  "language_info": {
   "codemirror_mode": "text/x-scala",
   "mimetype": "text/x-scala",
   "name": "scala",
   "pygments_lexer": "scala"
  }
 },
 "nbformat": 4,
 "nbformat_minor": 2
}
